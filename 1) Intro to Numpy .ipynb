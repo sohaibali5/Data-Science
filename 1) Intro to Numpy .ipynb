{
 "cells": [
  {
   "cell_type": "code",
   "execution_count": 1,
   "id": "ae2d9dd0-8dcc-45b6-80f4-63a95a21a79c",
   "metadata": {},
   "outputs": [],
   "source": [
    "import numpy as np\n"
   ]
  },
  {
   "cell_type": "code",
   "execution_count": 2,
   "id": "5db6f80f-a880-4de2-bc23-4a5536ad5abe",
   "metadata": {},
   "outputs": [
    {
     "data": {
      "text/plain": [
       "'1.20.1'"
      ]
     },
     "execution_count": 2,
     "metadata": {},
     "output_type": "execute_result"
    }
   ],
   "source": [
    "np.__version__"
   ]
  },
  {
   "cell_type": "markdown",
   "id": "0c582348",
   "metadata": {},
   "source": [
    "array created using numpy will convert all of its elements in single data type \n",
    "\n",
    "with precedence string>float>int\n"
   ]
  },
  {
   "cell_type": "code",
   "execution_count": 3,
   "id": "1a4d2470",
   "metadata": {},
   "outputs": [
    {
     "data": {
      "text/plain": [
       "array([1. , 3. , 5. , 7.9, 2. ])"
      ]
     },
     "execution_count": 3,
     "metadata": {},
     "output_type": "execute_result"
    }
   ],
   "source": [
    "arr=np.array([1,3,5,7.9,2])\n",
    "arr"
   ]
  },
  {
   "cell_type": "code",
   "execution_count": 7,
   "id": "5c64339c",
   "metadata": {},
   "outputs": [
    {
     "data": {
      "text/plain": [
       "array([ 0,  1,  2,  3,  4,  5,  6,  7,  8,  9, 10])"
      ]
     },
     "execution_count": 7,
     "metadata": {},
     "output_type": "execute_result"
    }
   ],
   "source": [
    "arr=np.arange(0,11)# given parameters are start and stop can also give increment\n",
    "arr"
   ]
  },
  {
   "cell_type": "code",
   "execution_count": 98,
   "id": "f3e32aaf",
   "metadata": {},
   "outputs": [
    {
     "data": {
      "text/plain": [
       "array([ 1. ,  4.4,  7.8, 11.2, 14.6, 18. ])"
      ]
     },
     "execution_count": 98,
     "metadata": {},
     "output_type": "execute_result"
    }
   ],
   "source": [
    "arr=np.linspace(1,18,6)#Generating  numbers between two intervals by giving length \n",
    "arr"
   ]
  },
  {
   "cell_type": "code",
   "execution_count": 18,
   "id": "224e7073",
   "metadata": {},
   "outputs": [
    {
     "data": {
      "text/plain": [
       "array([0, 0, 0, 0, 0, 0, 0])"
      ]
     },
     "execution_count": 18,
     "metadata": {},
     "output_type": "execute_result"
    }
   ],
   "source": [
    "arr=np.zeros(7,dtype=int)#Generating 7 length array filled with zeros\n",
    "arr"
   ]
  },
  {
   "cell_type": "code",
   "execution_count": 20,
   "id": "6c098355",
   "metadata": {},
   "outputs": [
    {
     "data": {
      "text/plain": [
       "array([[1, 1, 1, 1],\n",
       "       [1, 1, 1, 1],\n",
       "       [1, 1, 1, 1]])"
      ]
     },
     "execution_count": 20,
     "metadata": {},
     "output_type": "execute_result"
    }
   ],
   "source": [
    "arr=np.ones((3,4),dtype=int)#Generating 3x4 shape array filled with ones\n",
    "arr"
   ]
  },
  {
   "cell_type": "code",
   "execution_count": 21,
   "id": "d2f373b1",
   "metadata": {},
   "outputs": [
    {
     "data": {
      "text/plain": [
       "array([[4, 4, 4],\n",
       "       [4, 4, 4],\n",
       "       [4, 4, 4]])"
      ]
     },
     "execution_count": 21,
     "metadata": {},
     "output_type": "execute_result"
    }
   ],
   "source": [
    "np.full((3,3),4)#filled with our our required number "
   ]
  },
  {
   "cell_type": "code",
   "execution_count": 63,
   "id": "e581cfba",
   "metadata": {},
   "outputs": [
    {
     "data": {
      "text/plain": [
       "1436"
      ]
     },
     "execution_count": 63,
     "metadata": {},
     "output_type": "execute_result"
    }
   ],
   "source": [
    "np.random.randint(1999)# here range is given from 0 to 1998 so it will generate any number"
   ]
  },
  {
   "cell_type": "code",
   "execution_count": 37,
   "id": "39b4a2bd",
   "metadata": {},
   "outputs": [
    {
     "data": {
      "text/plain": [
       "array([[ -7,   7,   2],\n",
       "       [ -7,  -6,  -6],\n",
       "       [-10,  -6,  -4]])"
      ]
     },
     "execution_count": 37,
     "metadata": {},
     "output_type": "execute_result"
    }
   ],
   "source": [
    "np.random.randint(-10,10,(3,3))#Generates random values between given intervals(first interval inclusive second exclusive)\n",
    "#np.random.randint(-10,10,size=(3,3)) can use this  also\n",
    "#np.random.randint(5,size=(4,2,3)) #four matrix of 2x3 "
   ]
  },
  {
   "cell_type": "code",
   "execution_count": 26,
   "id": "feb20a51",
   "metadata": {},
   "outputs": [
    {
     "data": {
      "text/plain": [
       "array([5.54120518, 4.80753483, 4.01781226, 4.84661033, 3.55120557,\n",
       "       6.03156735, 6.11262251, 3.36739182, 4.1716393 ])"
      ]
     },
     "execution_count": 26,
     "metadata": {},
     "output_type": "execute_result"
    }
   ],
   "source": [
    "np.random.normal(5,1,9)\n",
    "# it will generate nine numbers by fulfulling the condition that there mean will be 5 and their standard deviation will be 1"
   ]
  },
  {
   "cell_type": "code",
   "execution_count": 48,
   "id": "01e8339f",
   "metadata": {},
   "outputs": [
    {
     "data": {
      "text/plain": [
       "array([[1., 0., 0.],\n",
       "       [0., 1., 0.],\n",
       "       [0., 0., 1.]])"
      ]
     },
     "execution_count": 48,
     "metadata": {},
     "output_type": "execute_result"
    }
   ],
   "source": [
    "np.eye(3)#Identity matrix "
   ]
  },
  {
   "cell_type": "code",
   "execution_count": 49,
   "id": "3e3d3687",
   "metadata": {},
   "outputs": [
    {
     "data": {
      "text/plain": [
       "array([[0.51300854, 0.51516928],\n",
       "       [0.57863104, 0.89946294]])"
      ]
     },
     "execution_count": 49,
     "metadata": {},
     "output_type": "execute_result"
    }
   ],
   "source": [
    "np.random.random(size=(2,2))#returns a floating point number in the range [0.0, 1.0) :which means 0.0 is possible but 1.0 isnt "
   ]
  },
  {
   "cell_type": "markdown",
   "id": "38076936",
   "metadata": {},
   "source": [
    "### Dimension shape and size\n"
   ]
  },
  {
   "cell_type": "code",
   "execution_count": 21,
   "id": "18a18cf6",
   "metadata": {},
   "outputs": [
    {
     "name": "stdout",
     "output_type": "stream",
     "text": [
      "[[0.51093885 0.63816371]\n",
      " [0.03953864 0.84203203]\n",
      " [0.32783315 0.33309129]]\n"
     ]
    }
   ],
   "source": [
    "array=np.random.random((3,2))\n",
    "print(array)"
   ]
  },
  {
   "cell_type": "code",
   "execution_count": 22,
   "id": "c98d5405",
   "metadata": {},
   "outputs": [
    {
     "data": {
      "text/plain": [
       "(3, 2)"
      ]
     },
     "execution_count": 22,
     "metadata": {},
     "output_type": "execute_result"
    }
   ],
   "source": [
    "array.shape#tell us about the order"
   ]
  },
  {
   "cell_type": "code",
   "execution_count": 24,
   "id": "21b24efe",
   "metadata": {},
   "outputs": [
    {
     "data": {
      "text/plain": [
       "array([0.51093885, 0.63816371, 0.03953864, 0.84203203, 0.32783315,\n",
       "       0.33309129])"
      ]
     },
     "execution_count": 24,
     "metadata": {},
     "output_type": "execute_result"
    }
   ],
   "source": [
    "#reshape your array\n",
    "array.reshape(6)\n",
    "# array.reshape(2,3)\n"
   ]
  },
  {
   "cell_type": "code",
   "execution_count": 68,
   "id": "a98a6b53",
   "metadata": {},
   "outputs": [
    {
     "data": {
      "text/plain": [
       "2"
      ]
     },
     "execution_count": 68,
     "metadata": {},
     "output_type": "execute_result"
    }
   ],
   "source": [
    "array.ndim#tell us the dimension like 2d array or 3d"
   ]
  },
  {
   "cell_type": "code",
   "execution_count": 69,
   "id": "eb4d0bcc",
   "metadata": {},
   "outputs": [
    {
     "data": {
      "text/plain": [
       "6"
      ]
     },
     "execution_count": 69,
     "metadata": {},
     "output_type": "execute_result"
    }
   ],
   "source": [
    "array.size# size of array 2*3=6"
   ]
  },
  {
   "cell_type": "code",
   "execution_count": 124,
   "id": "8d19ccf9",
   "metadata": {},
   "outputs": [],
   "source": [
    "# hell=np.random.randint(23,size=(4,3,2))#3d array\n",
    "hell=np.arange(24).reshape((4,3,2))# creating 3d array \n",
    "#one thing to note here if you are giving arange your desired reshape than you have to give exact space to fill all the numbers\n",
    "#spaces"
   ]
  },
  {
   "cell_type": "code",
   "execution_count": 125,
   "id": "f78052d7",
   "metadata": {},
   "outputs": [
    {
     "data": {
      "text/plain": [
       "array([[[ 0,  1],\n",
       "        [ 2,  3],\n",
       "        [ 4,  5]],\n",
       "\n",
       "       [[ 6,  7],\n",
       "        [ 8,  9],\n",
       "        [10, 11]],\n",
       "\n",
       "       [[12, 13],\n",
       "        [14, 15],\n",
       "        [16, 17]],\n",
       "\n",
       "       [[18, 19],\n",
       "        [20, 21],\n",
       "        [22, 23]]])"
      ]
     },
     "execution_count": 125,
     "metadata": {},
     "output_type": "execute_result"
    }
   ],
   "source": [
    "hell#rgb colour is the example/application of 3d array "
   ]
  },
  {
   "cell_type": "code",
   "execution_count": 126,
   "id": "8fdb6d16",
   "metadata": {},
   "outputs": [
    {
     "data": {
      "text/plain": [
       "14"
      ]
     },
     "execution_count": 126,
     "metadata": {},
     "output_type": "execute_result"
    }
   ],
   "source": [
    "#acessing 3d array elements \n",
    "#access number 14\n",
    "hell[2][1][0]#first we are giving z=matrix number then x=row then y=coloumn "
   ]
  },
  {
   "cell_type": "code",
   "execution_count": 135,
   "id": "1bc7fc79",
   "metadata": {},
   "outputs": [
    {
     "data": {
      "text/plain": [
       "array([[ 0,  1,  2,  3],\n",
       "       [ 4,  5,  6,  7],\n",
       "       [ 8,  9, 10, 11]])"
      ]
     },
     "execution_count": 135,
     "metadata": {},
     "output_type": "execute_result"
    }
   ],
   "source": [
    "array=np.arange(12).reshape(3,4)\n",
    "array"
   ]
  },
  {
   "cell_type": "code",
   "execution_count": 137,
   "id": "0b785677",
   "metadata": {},
   "outputs": [
    {
     "data": {
      "text/plain": [
       "array([ 8,  9, 10, 11])"
      ]
     },
     "execution_count": 137,
     "metadata": {},
     "output_type": "execute_result"
    }
   ],
   "source": [
    "array.max(axis=0)\n"
   ]
  },
  {
   "cell_type": "code",
   "execution_count": 12,
   "id": "c9bf968d",
   "metadata": {},
   "outputs": [],
   "source": [
    "x=np.array([[2,3],[4,5]])\n",
    "y=np.array([[2,3],[4,5]])\n"
   ]
  },
  {
   "cell_type": "code",
   "execution_count": 13,
   "id": "a14f6e1f",
   "metadata": {},
   "outputs": [
    {
     "data": {
      "text/plain": [
       "array([[16, 21],\n",
       "       [28, 37]])"
      ]
     },
     "execution_count": 13,
     "metadata": {},
     "output_type": "execute_result"
    }
   ],
   "source": [
    "x.dot(y)#It is multplying 2 matrices"
   ]
  },
  {
   "cell_type": "code",
   "execution_count": 14,
   "id": "dace3825",
   "metadata": {},
   "outputs": [
    {
     "data": {
      "text/plain": [
       "array([3, 5])"
      ]
     },
     "execution_count": 14,
     "metadata": {},
     "output_type": "execute_result"
    }
   ],
   "source": [
    "y[0:2,1]"
   ]
  }
 ],
 "metadata": {
  "kernelspec": {
   "display_name": "Python 3",
   "language": "python",
   "name": "python3"
  },
  "language_info": {
   "codemirror_mode": {
    "name": "ipython",
    "version": 3
   },
   "file_extension": ".py",
   "mimetype": "text/x-python",
   "name": "python",
   "nbconvert_exporter": "python",
   "pygments_lexer": "ipython3",
   "version": "3.8.8"
  }
 },
 "nbformat": 4,
 "nbformat_minor": 5
}
