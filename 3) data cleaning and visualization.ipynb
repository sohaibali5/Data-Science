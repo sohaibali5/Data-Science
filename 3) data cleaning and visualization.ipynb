{
 "cells": [
  {
   "cell_type": "code",
   "execution_count": 36,
   "id": "a3800772",
   "metadata": {},
   "outputs": [],
   "source": [
    "import pandas as pd\n",
    "import numpy as np\n",
    "\n",
    "import seaborn as sns\n",
    "import matplotlib.pyplot as plt\n",
    "import plotly.express as px\n",
    "\n",
    "import warnings\n",
    "warnings.filterwarnings(\"ignore\")"
   ]
  },
  {
   "cell_type": "code",
   "execution_count": 37,
   "id": "084b1d58",
   "metadata": {},
   "outputs": [],
   "source": [
    "app=pd.read_csv('D:\\python notes\\Python\\data cleaning and visualization\\googleplaystore.csv')"
   ]
  },
  {
   "cell_type": "markdown",
   "id": "c8b45a2d",
   "metadata": {},
   "source": [
    "## Data cleaning "
   ]
  },
  {
   "cell_type": "code",
   "execution_count": 38,
   "id": "80e563f9",
   "metadata": {},
   "outputs": [
    {
     "data": {
      "text/plain": [
       "App               False\n",
       "Category          False\n",
       "Rating             True\n",
       "Reviews           False\n",
       "Size              False\n",
       "Installs          False\n",
       "Type               True\n",
       "Price             False\n",
       "Content Rating     True\n",
       "Genres            False\n",
       "Last Updated      False\n",
       "Current Ver        True\n",
       "Android Ver        True\n",
       "dtype: bool"
      ]
     },
     "execution_count": 38,
     "metadata": {},
     "output_type": "execute_result"
    }
   ],
   "source": [
    "app.isna().any()#If a coloumn conatins null return true  else false \n",
    "#isna:not a number"
   ]
  },
  {
   "cell_type": "code",
   "execution_count": 39,
   "id": "375635b6",
   "metadata": {},
   "outputs": [
    {
     "data": {
      "text/plain": [
       "App                  0\n",
       "Category             0\n",
       "Rating            1474\n",
       "Reviews              0\n",
       "Size                 0\n",
       "Installs             0\n",
       "Type                 1\n",
       "Price                0\n",
       "Content Rating       1\n",
       "Genres               0\n",
       "Last Updated         0\n",
       "Current Ver          8\n",
       "Android Ver          3\n",
       "dtype: int64"
      ]
     },
     "execution_count": 39,
     "metadata": {},
     "output_type": "execute_result"
    }
   ],
   "source": [
    "app.isnull().sum()#sum of nulls in specific column "
   ]
  },
  {
   "cell_type": "markdown",
   "id": "c6c331ef",
   "metadata": {},
   "source": [
    "Accessing any coloumn\n"
   ]
  },
  {
   "cell_type": "code",
   "execution_count": 40,
   "id": "1603b49a",
   "metadata": {},
   "outputs": [
    {
     "data": {
      "text/html": [
       "<div>\n",
       "<style scoped>\n",
       "    .dataframe tbody tr th:only-of-type {\n",
       "        vertical-align: middle;\n",
       "    }\n",
       "\n",
       "    .dataframe tbody tr th {\n",
       "        vertical-align: top;\n",
       "    }\n",
       "\n",
       "    .dataframe thead th {\n",
       "        text-align: right;\n",
       "    }\n",
       "</style>\n",
       "<table border=\"1\" class=\"dataframe\">\n",
       "  <thead>\n",
       "    <tr style=\"text-align: right;\">\n",
       "      <th></th>\n",
       "      <th>App</th>\n",
       "      <th>Category</th>\n",
       "      <th>Rating</th>\n",
       "      <th>Reviews</th>\n",
       "      <th>Size</th>\n",
       "      <th>Installs</th>\n",
       "      <th>Type</th>\n",
       "      <th>Price</th>\n",
       "      <th>Content Rating</th>\n",
       "      <th>Genres</th>\n",
       "      <th>Last Updated</th>\n",
       "      <th>Current Ver</th>\n",
       "      <th>Android Ver</th>\n",
       "    </tr>\n",
       "  </thead>\n",
       "  <tbody>\n",
       "    <tr>\n",
       "      <th>9148</th>\n",
       "      <td>Command &amp; Conquer: Rivals</td>\n",
       "      <td>FAMILY</td>\n",
       "      <td>NaN</td>\n",
       "      <td>0</td>\n",
       "      <td>Varies with device</td>\n",
       "      <td>0</td>\n",
       "      <td>NaN</td>\n",
       "      <td>0</td>\n",
       "      <td>Everyone 10+</td>\n",
       "      <td>Strategy</td>\n",
       "      <td>28-Jun-18</td>\n",
       "      <td>Varies with device</td>\n",
       "      <td>Varies with device</td>\n",
       "    </tr>\n",
       "  </tbody>\n",
       "</table>\n",
       "</div>"
      ],
      "text/plain": [
       "                            App Category  Rating Reviews                Size  \\\n",
       "9148  Command & Conquer: Rivals   FAMILY     NaN       0  Varies with device   \n",
       "\n",
       "     Installs Type Price Content Rating    Genres Last Updated  \\\n",
       "9148        0  NaN     0   Everyone 10+  Strategy    28-Jun-18   \n",
       "\n",
       "             Current Ver         Android Ver  \n",
       "9148  Varies with device  Varies with device  "
      ]
     },
     "execution_count": 40,
     "metadata": {},
     "output_type": "execute_result"
    }
   ],
   "source": [
    "app[app.Type.isna()==True]#Return that record which contains null \n"
   ]
  },
  {
   "cell_type": "code",
   "execution_count": 41,
   "id": "cd423db1",
   "metadata": {},
   "outputs": [
    {
     "data": {
      "text/plain": [
       "Free    10039\n",
       "Paid      800\n",
       "0           1\n",
       "Name: Type, dtype: int64"
      ]
     },
     "execution_count": 41,
     "metadata": {},
     "output_type": "execute_result"
    }
   ],
   "source": [
    "app.Type.value_counts()# Type of unique data each coloumn conatains with their counts  "
   ]
  },
  {
   "cell_type": "code",
   "execution_count": 42,
   "id": "d0586c92",
   "metadata": {},
   "outputs": [
    {
     "data": {
      "text/html": [
       "<div>\n",
       "<style scoped>\n",
       "    .dataframe tbody tr th:only-of-type {\n",
       "        vertical-align: middle;\n",
       "    }\n",
       "\n",
       "    .dataframe tbody tr th {\n",
       "        vertical-align: top;\n",
       "    }\n",
       "\n",
       "    .dataframe thead th {\n",
       "        text-align: right;\n",
       "    }\n",
       "</style>\n",
       "<table border=\"1\" class=\"dataframe\">\n",
       "  <thead>\n",
       "    <tr style=\"text-align: right;\">\n",
       "      <th></th>\n",
       "      <th>App</th>\n",
       "      <th>Category</th>\n",
       "      <th>Rating</th>\n",
       "      <th>Reviews</th>\n",
       "      <th>Size</th>\n",
       "      <th>Installs</th>\n",
       "      <th>Type</th>\n",
       "      <th>Price</th>\n",
       "      <th>Content Rating</th>\n",
       "      <th>Genres</th>\n",
       "      <th>Last Updated</th>\n",
       "      <th>Current Ver</th>\n",
       "      <th>Android Ver</th>\n",
       "    </tr>\n",
       "  </thead>\n",
       "  <tbody>\n",
       "    <tr>\n",
       "      <th>10472</th>\n",
       "      <td>Life Made WI-Fi Touchscreen Photo Frame</td>\n",
       "      <td>1.9</td>\n",
       "      <td>19.0</td>\n",
       "      <td>3.0M</td>\n",
       "      <td>1,000+</td>\n",
       "      <td>Free</td>\n",
       "      <td>0</td>\n",
       "      <td>Everyone</td>\n",
       "      <td>NaN</td>\n",
       "      <td>11-Feb-18</td>\n",
       "      <td>1.0.19</td>\n",
       "      <td>4.0 and up</td>\n",
       "      <td>NaN</td>\n",
       "    </tr>\n",
       "  </tbody>\n",
       "</table>\n",
       "</div>"
      ],
      "text/plain": [
       "                                           App Category  Rating Reviews  \\\n",
       "10472  Life Made WI-Fi Touchscreen Photo Frame      1.9    19.0    3.0M   \n",
       "\n",
       "         Size Installs Type     Price Content Rating     Genres Last Updated  \\\n",
       "10472  1,000+     Free    0  Everyone            NaN  11-Feb-18       1.0.19   \n",
       "\n",
       "      Current Ver Android Ver  \n",
       "10472  4.0 and up         NaN  "
      ]
     },
     "execution_count": 42,
     "metadata": {},
     "output_type": "execute_result"
    }
   ],
   "source": [
    "app[app[\"Content Rating\"].isna()==True]#this is how i access a NaN value in content rating\n",
    "#and we already access NaN in  Type in In[10]"
   ]
  },
  {
   "cell_type": "code",
   "execution_count": 43,
   "id": "b74599a8",
   "metadata": {},
   "outputs": [],
   "source": [
    "#drop records with missing (Type and content rating)\n",
    "\n",
    "app.dropna(subset=[\"Type\",\"Content Rating\"],axis=0,inplace=True)\n",
    "\n",
    "#dropna means drop the records that having NaN\n",
    "#subset use to select records in pandas\n",
    "#axis=0 is use for row \n",
    "#inplace will auto save the removed data in app\n"
   ]
  },
  {
   "cell_type": "markdown",
   "id": "2c2fefb9",
   "metadata": {},
   "source": [
    "Remove Duplicate"
   ]
  },
  {
   "cell_type": "code",
   "execution_count": 44,
   "id": "ba067dae",
   "metadata": {},
   "outputs": [
    {
     "data": {
      "text/plain": [
       "True"
      ]
     },
     "execution_count": 44,
     "metadata": {},
     "output_type": "execute_result"
    }
   ],
   "source": [
    "#checking ifany duplicates exists \n",
    "app.duplicated().any()"
   ]
  },
  {
   "cell_type": "code",
   "execution_count": 45,
   "id": "dee717e7",
   "metadata": {},
   "outputs": [],
   "source": [
    "#dropping duplicates\n",
    "app.drop_duplicates(inplace=True)\n"
   ]
  },
  {
   "cell_type": "markdown",
   "id": "9ab25f3f",
   "metadata": {},
   "source": [
    "# Exploring data"
   ]
  },
  {
   "cell_type": "code",
   "execution_count": 46,
   "id": "3d2e745b",
   "metadata": {},
   "outputs": [
    {
     "data": {
      "text/html": [
       "<div>\n",
       "<style scoped>\n",
       "    .dataframe tbody tr th:only-of-type {\n",
       "        vertical-align: middle;\n",
       "    }\n",
       "\n",
       "    .dataframe tbody tr th {\n",
       "        vertical-align: top;\n",
       "    }\n",
       "\n",
       "    .dataframe thead th {\n",
       "        text-align: right;\n",
       "    }\n",
       "</style>\n",
       "<table border=\"1\" class=\"dataframe\">\n",
       "  <thead>\n",
       "    <tr style=\"text-align: right;\">\n",
       "      <th></th>\n",
       "      <th>App</th>\n",
       "      <th>Category</th>\n",
       "      <th>Rating</th>\n",
       "      <th>Reviews</th>\n",
       "      <th>Size</th>\n",
       "      <th>Installs</th>\n",
       "      <th>Type</th>\n",
       "      <th>Price</th>\n",
       "      <th>Content Rating</th>\n",
       "      <th>Genres</th>\n",
       "      <th>Last Updated</th>\n",
       "      <th>Current Ver</th>\n",
       "      <th>Android Ver</th>\n",
       "    </tr>\n",
       "  </thead>\n",
       "  <tbody>\n",
       "    <tr>\n",
       "      <th>234</th>\n",
       "      <td>TurboScan: scan documents and receipts in PDF</td>\n",
       "      <td>BUSINESS</td>\n",
       "      <td>4.7</td>\n",
       "      <td>11442</td>\n",
       "      <td>6.8M</td>\n",
       "      <td>100,000+</td>\n",
       "      <td>Paid</td>\n",
       "      <td>$4.99</td>\n",
       "      <td>Everyone</td>\n",
       "      <td>Business</td>\n",
       "      <td>25-Mar-18</td>\n",
       "      <td>1.5.2</td>\n",
       "      <td>4.0 and up</td>\n",
       "    </tr>\n",
       "    <tr>\n",
       "      <th>235</th>\n",
       "      <td>Tiny Scanner Pro: PDF Doc Scan</td>\n",
       "      <td>BUSINESS</td>\n",
       "      <td>4.8</td>\n",
       "      <td>10295</td>\n",
       "      <td>39M</td>\n",
       "      <td>100,000+</td>\n",
       "      <td>Paid</td>\n",
       "      <td>$4.99</td>\n",
       "      <td>Everyone</td>\n",
       "      <td>Business</td>\n",
       "      <td>11-Apr-17</td>\n",
       "      <td>3.4.6</td>\n",
       "      <td>3.0 and up</td>\n",
       "    </tr>\n",
       "    <tr>\n",
       "      <th>427</th>\n",
       "      <td>Puffin Browser Pro</td>\n",
       "      <td>COMMUNICATION</td>\n",
       "      <td>4.0</td>\n",
       "      <td>18247</td>\n",
       "      <td>Varies with device</td>\n",
       "      <td>100,000+</td>\n",
       "      <td>Paid</td>\n",
       "      <td>$3.99</td>\n",
       "      <td>Everyone</td>\n",
       "      <td>Communication</td>\n",
       "      <td>5-Jul-18</td>\n",
       "      <td>7.5.3.20547</td>\n",
       "      <td>4.1 and up</td>\n",
       "    </tr>\n",
       "    <tr>\n",
       "      <th>476</th>\n",
       "      <td>Moco+ - Chat, Meet People</td>\n",
       "      <td>DATING</td>\n",
       "      <td>4.2</td>\n",
       "      <td>1545</td>\n",
       "      <td>Varies with device</td>\n",
       "      <td>10,000+</td>\n",
       "      <td>Paid</td>\n",
       "      <td>$3.99</td>\n",
       "      <td>Mature 17+</td>\n",
       "      <td>Dating</td>\n",
       "      <td>19-Jun-18</td>\n",
       "      <td>2.6.139</td>\n",
       "      <td>4.1 and up</td>\n",
       "    </tr>\n",
       "    <tr>\n",
       "      <th>477</th>\n",
       "      <td>Calculator</td>\n",
       "      <td>DATING</td>\n",
       "      <td>2.6</td>\n",
       "      <td>57</td>\n",
       "      <td>6.2M</td>\n",
       "      <td>1,000+</td>\n",
       "      <td>Paid</td>\n",
       "      <td>$6.99</td>\n",
       "      <td>Everyone</td>\n",
       "      <td>Dating</td>\n",
       "      <td>25-Oct-17</td>\n",
       "      <td>1.1.6</td>\n",
       "      <td>4.0 and up</td>\n",
       "    </tr>\n",
       "  </tbody>\n",
       "</table>\n",
       "</div>"
      ],
      "text/plain": [
       "                                               App       Category  Rating  \\\n",
       "234  TurboScan: scan documents and receipts in PDF       BUSINESS     4.7   \n",
       "235                 Tiny Scanner Pro: PDF Doc Scan       BUSINESS     4.8   \n",
       "427                             Puffin Browser Pro  COMMUNICATION     4.0   \n",
       "476                      Moco+ - Chat, Meet People         DATING     4.2   \n",
       "477                                     Calculator         DATING     2.6   \n",
       "\n",
       "    Reviews                Size  Installs  Type   Price Content Rating  \\\n",
       "234   11442                6.8M  100,000+  Paid  $4.99        Everyone   \n",
       "235   10295                 39M  100,000+  Paid  $4.99        Everyone   \n",
       "427   18247  Varies with device  100,000+  Paid  $3.99        Everyone   \n",
       "476    1545  Varies with device   10,000+  Paid  $3.99      Mature 17+   \n",
       "477      57                6.2M    1,000+  Paid  $6.99        Everyone   \n",
       "\n",
       "            Genres Last Updated  Current Ver Android Ver  \n",
       "234       Business    25-Mar-18        1.5.2  4.0 and up  \n",
       "235       Business    11-Apr-17        3.4.6  3.0 and up  \n",
       "427  Communication     5-Jul-18  7.5.3.20547  4.1 and up  \n",
       "476         Dating    19-Jun-18      2.6.139  4.1 and up  \n",
       "477         Dating    25-Oct-17        1.1.6  4.0 and up  "
      ]
     },
     "execution_count": 46,
     "metadata": {},
     "output_type": "execute_result"
    }
   ],
   "source": [
    "\n",
    "# install and price coloumns having numeric value but addition of coma + $ M making it string\n",
    "app[app.Type==\"Paid\"].head()\n",
    "#Here we can see intsalls coloumn having coma and Positive sign Which is not a numeric value"
   ]
  },
  {
   "cell_type": "code",
   "execution_count": 47,
   "id": "3838a085",
   "metadata": {},
   "outputs": [],
   "source": [
    "char_to_remove=[',','+','$']\n",
    "coloumns_to_clean=[\"Installs\",\"Price\"]\n",
    "\n",
    "for col in coloumns_to_clean:\n",
    "    for char in char_to_remove:\n",
    "        app[col]=app[col].apply(lambda x:x.replace(char,''))\n"
   ]
  },
  {
   "cell_type": "code",
   "execution_count": 48,
   "id": "dca1c0ff",
   "metadata": {},
   "outputs": [
    {
     "data": {
      "text/html": [
       "<div>\n",
       "<style scoped>\n",
       "    .dataframe tbody tr th:only-of-type {\n",
       "        vertical-align: middle;\n",
       "    }\n",
       "\n",
       "    .dataframe tbody tr th {\n",
       "        vertical-align: top;\n",
       "    }\n",
       "\n",
       "    .dataframe thead th {\n",
       "        text-align: right;\n",
       "    }\n",
       "</style>\n",
       "<table border=\"1\" class=\"dataframe\">\n",
       "  <thead>\n",
       "    <tr style=\"text-align: right;\">\n",
       "      <th></th>\n",
       "      <th>App</th>\n",
       "      <th>Category</th>\n",
       "      <th>Rating</th>\n",
       "      <th>Reviews</th>\n",
       "      <th>Size</th>\n",
       "      <th>Installs</th>\n",
       "      <th>Type</th>\n",
       "      <th>Price</th>\n",
       "      <th>Content Rating</th>\n",
       "      <th>Genres</th>\n",
       "      <th>Last Updated</th>\n",
       "      <th>Current Ver</th>\n",
       "      <th>Android Ver</th>\n",
       "    </tr>\n",
       "  </thead>\n",
       "  <tbody>\n",
       "    <tr>\n",
       "      <th>0</th>\n",
       "      <td>Photo Editor &amp; Candy Camera &amp; Grid &amp; ScrapBook</td>\n",
       "      <td>ART_AND_DESIGN</td>\n",
       "      <td>4.1</td>\n",
       "      <td>159</td>\n",
       "      <td>19M</td>\n",
       "      <td>10000</td>\n",
       "      <td>Free</td>\n",
       "      <td>0</td>\n",
       "      <td>Everyone</td>\n",
       "      <td>Art &amp; Design</td>\n",
       "      <td>7-Jan-18</td>\n",
       "      <td>1.0.0</td>\n",
       "      <td>4.0.3 and up</td>\n",
       "    </tr>\n",
       "    <tr>\n",
       "      <th>1</th>\n",
       "      <td>Coloring book moana</td>\n",
       "      <td>ART_AND_DESIGN</td>\n",
       "      <td>3.9</td>\n",
       "      <td>967</td>\n",
       "      <td>14M</td>\n",
       "      <td>500000</td>\n",
       "      <td>Free</td>\n",
       "      <td>0</td>\n",
       "      <td>Everyone</td>\n",
       "      <td>Art &amp; Design;Pretend Play</td>\n",
       "      <td>15-Jan-18</td>\n",
       "      <td>2.0.0</td>\n",
       "      <td>4.0.3 and up</td>\n",
       "    </tr>\n",
       "  </tbody>\n",
       "</table>\n",
       "</div>"
      ],
      "text/plain": [
       "                                              App        Category  Rating  \\\n",
       "0  Photo Editor & Candy Camera & Grid & ScrapBook  ART_AND_DESIGN     4.1   \n",
       "1                             Coloring book moana  ART_AND_DESIGN     3.9   \n",
       "\n",
       "  Reviews Size Installs  Type Price Content Rating                     Genres  \\\n",
       "0     159  19M    10000  Free     0       Everyone               Art & Design   \n",
       "1     967  14M   500000  Free     0       Everyone  Art & Design;Pretend Play   \n",
       "\n",
       "  Last Updated Current Ver   Android Ver  \n",
       "0     7-Jan-18       1.0.0  4.0.3 and up  \n",
       "1    15-Jan-18       2.0.0  4.0.3 and up  "
      ]
     },
     "execution_count": 48,
     "metadata": {},
     "output_type": "execute_result"
    }
   ],
   "source": [
    "app.head(2)#all characters in integers removed"
   ]
  },
  {
   "cell_type": "code",
   "execution_count": 49,
   "id": "e40002f0",
   "metadata": {},
   "outputs": [
    {
     "data": {
      "text/html": [
       "<div>\n",
       "<style scoped>\n",
       "    .dataframe tbody tr th:only-of-type {\n",
       "        vertical-align: middle;\n",
       "    }\n",
       "\n",
       "    .dataframe tbody tr th {\n",
       "        vertical-align: top;\n",
       "    }\n",
       "\n",
       "    .dataframe thead th {\n",
       "        text-align: right;\n",
       "    }\n",
       "</style>\n",
       "<table border=\"1\" class=\"dataframe\">\n",
       "  <thead>\n",
       "    <tr style=\"text-align: right;\">\n",
       "      <th></th>\n",
       "      <th>App</th>\n",
       "      <th>Category</th>\n",
       "      <th>Rating</th>\n",
       "      <th>Reviews</th>\n",
       "      <th>Size</th>\n",
       "      <th>Installs</th>\n",
       "      <th>Type</th>\n",
       "      <th>Price</th>\n",
       "      <th>Content Rating</th>\n",
       "      <th>Genres</th>\n",
       "      <th>Last Updated</th>\n",
       "      <th>Current Ver</th>\n",
       "      <th>Android Ver</th>\n",
       "    </tr>\n",
       "  </thead>\n",
       "  <tbody>\n",
       "  </tbody>\n",
       "</table>\n",
       "</div>"
      ],
      "text/plain": [
       "Empty DataFrame\n",
       "Columns: [App, Category, Rating, Reviews, Size, Installs, Type, Price, Content Rating, Genres, Last Updated, Current Ver, Android Ver]\n",
       "Index: []"
      ]
     },
     "execution_count": 49,
     "metadata": {},
     "output_type": "execute_result"
    }
   ],
   "source": [
    "#Rating should'nt be more than five\n",
    "false_rated=app[app['Rating']>5]\n",
    "false_rated"
   ]
  },
  {
   "cell_type": "code",
   "execution_count": 50,
   "id": "a892eaa0",
   "metadata": {},
   "outputs": [],
   "source": [
    "#Removing coloumns having rating more than five\n",
    "app.drop(app[app['Rating']>5].index,inplace=True)"
   ]
  },
  {
   "cell_type": "code",
   "execution_count": 51,
   "id": "5bd2d17d",
   "metadata": {},
   "outputs": [
    {
     "data": {
      "text/plain": [
       "5.0"
      ]
     },
     "execution_count": 51,
     "metadata": {},
     "output_type": "execute_result"
    }
   ],
   "source": [
    "#Checking if Rating coloumn have more than 5 \n",
    "#app[app['Rating']>5].any()\n",
    "app.Rating.max()"
   ]
  },
  {
   "cell_type": "code",
   "execution_count": 52,
   "id": "9b530fb3",
   "metadata": {},
   "outputs": [
    {
     "data": {
      "text/plain": [
       "array(['Everyone', 'Teen', 'Everyone 10+', 'Mature 17+',\n",
       "       'Adults only 18+', 'Unrated'], dtype=object)"
      ]
     },
     "execution_count": 52,
     "metadata": {},
     "output_type": "execute_result"
    }
   ],
   "source": [
    "#Content Rating coloumn having some abiguity or uncleaned values so we will replaced them with simple\n",
    "app['Content Rating'].unique()"
   ]
  },
  {
   "cell_type": "code",
   "execution_count": 53,
   "id": "8825c085",
   "metadata": {},
   "outputs": [],
   "source": [
    "#converting into mature adult\n",
    "app['Content Rating'].replace(['Everyone 10+', 'Mature 17+','Adults only 18+'],['10+','Mature','Adults'],inplace=True)"
   ]
  },
  {
   "cell_type": "code",
   "execution_count": 54,
   "id": "eb8280d3",
   "metadata": {},
   "outputs": [
    {
     "data": {
      "text/plain": [
       "array(['Everyone', 'Teen', '10+', 'Mature', 'Adults', 'Unrated'],\n",
       "      dtype=object)"
      ]
     },
     "execution_count": 54,
     "metadata": {},
     "output_type": "execute_result"
    }
   ],
   "source": [
    "app['Content Rating'].unique()"
   ]
  },
  {
   "cell_type": "code",
   "execution_count": 55,
   "id": "417683cb",
   "metadata": {},
   "outputs": [
    {
     "data": {
      "text/plain": [
       "dtype('O')"
      ]
     },
     "execution_count": 55,
     "metadata": {},
     "output_type": "execute_result"
    }
   ],
   "source": [
    "\n",
    "app['Content Rating'].dtype#this coloumn has discrete values so the data type should be category"
   ]
  },
  {
   "cell_type": "code",
   "execution_count": 56,
   "id": "6d849839",
   "metadata": {},
   "outputs": [],
   "source": [
    "#Now changing data type as per thier data\n",
    "\n",
    "app['Content Rating']=app['Content Rating'].astype('category')\n",
    "app['Category']=app['Category'].astype('category')\n",
    "app['Type']=app['Type'].astype('category')\n",
    "app['Genres']=app['Genres'].astype('category')\n",
    "app['Reviews']=app['Reviews'].astype('int')\n",
    "app['Installs']=app['Installs'].astype('int')\n",
    "app['Price']=app['Price'].astype('float64')\n",
    "app['Last Updated']=pd.to_datetime(app['Last Updated'])"
   ]
  },
  {
   "cell_type": "code",
   "execution_count": 57,
   "id": "1dc1deb8",
   "metadata": {},
   "outputs": [
    {
     "name": "stdout",
     "output_type": "stream",
     "text": [
      "<class 'pandas.core.frame.DataFrame'>\n",
      "Int64Index: 10356 entries, 0 to 10840\n",
      "Data columns (total 13 columns):\n",
      " #   Column          Non-Null Count  Dtype         \n",
      "---  ------          --------------  -----         \n",
      " 0   App             10356 non-null  object        \n",
      " 1   Category        10356 non-null  category      \n",
      " 2   Rating          8892 non-null   float64       \n",
      " 3   Reviews         10356 non-null  int32         \n",
      " 4   Size            10356 non-null  object        \n",
      " 5   Installs        10356 non-null  int32         \n",
      " 6   Type            10356 non-null  category      \n",
      " 7   Price           10356 non-null  float64       \n",
      " 8   Content Rating  10356 non-null  category      \n",
      " 9   Genres          10356 non-null  category      \n",
      " 10  Last Updated    10356 non-null  datetime64[ns]\n",
      " 11  Current Ver     10348 non-null  object        \n",
      " 12  Android Ver     10354 non-null  object        \n",
      "dtypes: category(4), datetime64[ns](1), float64(2), int32(2), object(4)\n",
      "memory usage: 1.0+ MB\n"
     ]
    }
   ],
   "source": [
    "app.info()"
   ]
  },
  {
   "cell_type": "code",
   "execution_count": 58,
   "id": "14cbbb53",
   "metadata": {},
   "outputs": [
    {
     "data": {
      "text/html": [
       "<div>\n",
       "<style scoped>\n",
       "    .dataframe tbody tr th:only-of-type {\n",
       "        vertical-align: middle;\n",
       "    }\n",
       "\n",
       "    .dataframe tbody tr th {\n",
       "        vertical-align: top;\n",
       "    }\n",
       "\n",
       "    .dataframe thead th {\n",
       "        text-align: right;\n",
       "    }\n",
       "</style>\n",
       "<table border=\"1\" class=\"dataframe\">\n",
       "  <thead>\n",
       "    <tr style=\"text-align: right;\">\n",
       "      <th></th>\n",
       "      <th>App</th>\n",
       "      <th>Category</th>\n",
       "      <th>Rating</th>\n",
       "      <th>Reviews</th>\n",
       "      <th>Size</th>\n",
       "      <th>Installs</th>\n",
       "      <th>Type</th>\n",
       "      <th>Price</th>\n",
       "      <th>Content Rating</th>\n",
       "      <th>Genres</th>\n",
       "      <th>Last Updated</th>\n",
       "      <th>Current Ver</th>\n",
       "      <th>Android Ver</th>\n",
       "    </tr>\n",
       "  </thead>\n",
       "  <tbody>\n",
       "    <tr>\n",
       "      <th>329</th>\n",
       "      <td>Hojiboy Tojiboyev Life Hacks</td>\n",
       "      <td>COMICS</td>\n",
       "      <td>5.0</td>\n",
       "      <td>15</td>\n",
       "      <td>37M</td>\n",
       "      <td>1000</td>\n",
       "      <td>Free</td>\n",
       "      <td>0.0</td>\n",
       "      <td>Everyone</td>\n",
       "      <td>Comics</td>\n",
       "      <td>2018-06-26</td>\n",
       "      <td>2</td>\n",
       "      <td>4.0.3 and up</td>\n",
       "    </tr>\n",
       "    <tr>\n",
       "      <th>612</th>\n",
       "      <td>American Girls Mobile Numbers</td>\n",
       "      <td>DATING</td>\n",
       "      <td>5.0</td>\n",
       "      <td>5</td>\n",
       "      <td>4.4M</td>\n",
       "      <td>1000</td>\n",
       "      <td>Free</td>\n",
       "      <td>0.0</td>\n",
       "      <td>Mature</td>\n",
       "      <td>Dating</td>\n",
       "      <td>2018-07-17</td>\n",
       "      <td>3</td>\n",
       "      <td>4.0.3 and up</td>\n",
       "    </tr>\n",
       "    <tr>\n",
       "      <th>615</th>\n",
       "      <td>Awake Dating</td>\n",
       "      <td>DATING</td>\n",
       "      <td>5.0</td>\n",
       "      <td>2</td>\n",
       "      <td>70M</td>\n",
       "      <td>100</td>\n",
       "      <td>Free</td>\n",
       "      <td>0.0</td>\n",
       "      <td>Mature</td>\n",
       "      <td>Dating</td>\n",
       "      <td>2018-07-24</td>\n",
       "      <td>2.2.9</td>\n",
       "      <td>4.4 and up</td>\n",
       "    </tr>\n",
       "    <tr>\n",
       "      <th>633</th>\n",
       "      <td>Spine- The dating app</td>\n",
       "      <td>DATING</td>\n",
       "      <td>5.0</td>\n",
       "      <td>5</td>\n",
       "      <td>9.3M</td>\n",
       "      <td>500</td>\n",
       "      <td>Free</td>\n",
       "      <td>0.0</td>\n",
       "      <td>Teen</td>\n",
       "      <td>Dating</td>\n",
       "      <td>2018-07-14</td>\n",
       "      <td>4</td>\n",
       "      <td>4.0.3 and up</td>\n",
       "    </tr>\n",
       "    <tr>\n",
       "      <th>636</th>\n",
       "      <td>Girls Live Talk - Free Text and Video Chat</td>\n",
       "      <td>DATING</td>\n",
       "      <td>5.0</td>\n",
       "      <td>6</td>\n",
       "      <td>5.0M</td>\n",
       "      <td>100</td>\n",
       "      <td>Free</td>\n",
       "      <td>0.0</td>\n",
       "      <td>Mature</td>\n",
       "      <td>Dating</td>\n",
       "      <td>2018-08-01</td>\n",
       "      <td>8.2</td>\n",
       "      <td>4.0.3 and up</td>\n",
       "    </tr>\n",
       "    <tr>\n",
       "      <th>640</th>\n",
       "      <td>Online Girls Chat Group</td>\n",
       "      <td>DATING</td>\n",
       "      <td>5.0</td>\n",
       "      <td>5</td>\n",
       "      <td>5.0M</td>\n",
       "      <td>100</td>\n",
       "      <td>Free</td>\n",
       "      <td>0.0</td>\n",
       "      <td>Mature</td>\n",
       "      <td>Dating</td>\n",
       "      <td>2018-08-02</td>\n",
       "      <td>8.2</td>\n",
       "      <td>4.0.3 and up</td>\n",
       "    </tr>\n",
       "    <tr>\n",
       "      <th>654</th>\n",
       "      <td>Speeding Joyride &amp; Car Meet App</td>\n",
       "      <td>DATING</td>\n",
       "      <td>5.0</td>\n",
       "      <td>3</td>\n",
       "      <td>25M</td>\n",
       "      <td>100</td>\n",
       "      <td>Free</td>\n",
       "      <td>0.0</td>\n",
       "      <td>Mature</td>\n",
       "      <td>Dating</td>\n",
       "      <td>2018-07-20</td>\n",
       "      <td>1.2.9</td>\n",
       "      <td>4.1 and up</td>\n",
       "    </tr>\n",
       "    <tr>\n",
       "      <th>1028</th>\n",
       "      <td>SUMMER SONIC app</td>\n",
       "      <td>EVENTS</td>\n",
       "      <td>5.0</td>\n",
       "      <td>4</td>\n",
       "      <td>61M</td>\n",
       "      <td>500</td>\n",
       "      <td>Free</td>\n",
       "      <td>0.0</td>\n",
       "      <td>Everyone</td>\n",
       "      <td>Events</td>\n",
       "      <td>2018-07-24</td>\n",
       "      <td>1</td>\n",
       "      <td>4.4 and up</td>\n",
       "    </tr>\n",
       "    <tr>\n",
       "      <th>1030</th>\n",
       "      <td>Prosperity</td>\n",
       "      <td>EVENTS</td>\n",
       "      <td>5.0</td>\n",
       "      <td>16</td>\n",
       "      <td>2.3M</td>\n",
       "      <td>100</td>\n",
       "      <td>Free</td>\n",
       "      <td>0.0</td>\n",
       "      <td>Everyone</td>\n",
       "      <td>Events</td>\n",
       "      <td>2018-07-09</td>\n",
       "      <td>1.14</td>\n",
       "      <td>2.0 and up</td>\n",
       "    </tr>\n",
       "    <tr>\n",
       "      <th>1038</th>\n",
       "      <td>Mindvalley U Tallinn 2018</td>\n",
       "      <td>EVENTS</td>\n",
       "      <td>5.0</td>\n",
       "      <td>1</td>\n",
       "      <td>21M</td>\n",
       "      <td>100</td>\n",
       "      <td>Free</td>\n",
       "      <td>0.0</td>\n",
       "      <td>Everyone</td>\n",
       "      <td>Events</td>\n",
       "      <td>2018-07-03</td>\n",
       "      <td>1.0.5</td>\n",
       "      <td>4.4 and up</td>\n",
       "    </tr>\n",
       "  </tbody>\n",
       "</table>\n",
       "</div>"
      ],
      "text/plain": [
       "                                             App Category  Rating  Reviews  \\\n",
       "329                 Hojiboy Tojiboyev Life Hacks   COMICS     5.0       15   \n",
       "612                American Girls Mobile Numbers   DATING     5.0        5   \n",
       "615                                 Awake Dating   DATING     5.0        2   \n",
       "633                        Spine- The dating app   DATING     5.0        5   \n",
       "636   Girls Live Talk - Free Text and Video Chat   DATING     5.0        6   \n",
       "640                      Online Girls Chat Group   DATING     5.0        5   \n",
       "654              Speeding Joyride & Car Meet App   DATING     5.0        3   \n",
       "1028                            SUMMER SONIC app   EVENTS     5.0        4   \n",
       "1030                                  Prosperity   EVENTS     5.0       16   \n",
       "1038                   Mindvalley U Tallinn 2018   EVENTS     5.0        1   \n",
       "\n",
       "      Size  Installs  Type  Price Content Rating  Genres Last Updated  \\\n",
       "329    37M      1000  Free    0.0       Everyone  Comics   2018-06-26   \n",
       "612   4.4M      1000  Free    0.0         Mature  Dating   2018-07-17   \n",
       "615    70M       100  Free    0.0         Mature  Dating   2018-07-24   \n",
       "633   9.3M       500  Free    0.0           Teen  Dating   2018-07-14   \n",
       "636   5.0M       100  Free    0.0         Mature  Dating   2018-08-01   \n",
       "640   5.0M       100  Free    0.0         Mature  Dating   2018-08-02   \n",
       "654    25M       100  Free    0.0         Mature  Dating   2018-07-20   \n",
       "1028   61M       500  Free    0.0       Everyone  Events   2018-07-24   \n",
       "1030  2.3M       100  Free    0.0       Everyone  Events   2018-07-09   \n",
       "1038   21M       100  Free    0.0       Everyone  Events   2018-07-03   \n",
       "\n",
       "     Current Ver   Android Ver  \n",
       "329            2  4.0.3 and up  \n",
       "612            3  4.0.3 and up  \n",
       "615        2.2.9    4.4 and up  \n",
       "633            4  4.0.3 and up  \n",
       "636          8.2  4.0.3 and up  \n",
       "640          8.2  4.0.3 and up  \n",
       "654        1.2.9    4.1 and up  \n",
       "1028           1    4.4 and up  \n",
       "1030        1.14    2.0 and up  \n",
       "1038       1.0.5    4.4 and up  "
      ]
     },
     "execution_count": 58,
     "metadata": {},
     "output_type": "execute_result"
    }
   ],
   "source": [
    "top_rated=app.nlargest(10,'Rating')\n",
    "top_rated"
   ]
  },
  {
   "cell_type": "code",
   "execution_count": 59,
   "id": "31c132ee",
   "metadata": {},
   "outputs": [
    {
     "data": {
      "text/plain": [
       "array([  0.  ,   4.99,   3.99,   6.99,   1.49,   2.99,   7.99,   5.99,\n",
       "         3.49,   1.99,   9.99,   7.49,   0.99,   9.  ,   5.49,  10.  ,\n",
       "        24.99,  11.99,  79.99,  16.99,  14.99,   1.  ,  29.99,  12.99,\n",
       "         2.49,  10.99,   1.5 ,  19.99,  15.99,  33.99,  74.99,  39.99,\n",
       "         3.95,   4.49,   1.7 ,   8.99,   2.  ,   3.88,  25.99, 399.99,\n",
       "        17.99, 400.  ,   3.02,   1.76,   4.84,   4.77,   1.61,   2.5 ,\n",
       "         1.59,   6.49,   1.29,   5.  ,  13.99, 299.99, 379.99,  37.99,\n",
       "        18.99, 389.99,  19.9 ,   8.49,   1.75,  14.  ,   4.85,  46.99,\n",
       "       109.99, 154.99,   3.08,   2.59,   4.8 ,   1.96,  19.4 ,   3.9 ,\n",
       "         4.59,  15.46,   3.04,   4.29,   2.6 ,   3.28,   4.6 ,  28.99,\n",
       "         2.95,   2.9 ,   1.97, 200.  ,  89.99,   2.56,  30.99,   3.61,\n",
       "       394.99,   1.26,   1.2 ,   1.04])"
      ]
     },
     "execution_count": 59,
     "metadata": {},
     "output_type": "execute_result"
    }
   ],
   "source": [
    "app.Price.unique()"
   ]
  },
  {
   "cell_type": "code",
   "execution_count": 60,
   "id": "271d7b5e",
   "metadata": {},
   "outputs": [
    {
     "data": {
      "image/png": "[encoded data removed]",
      "text/plain": [
       "<Figure size 432x288 with 1 Axes>"
      ]
     },
     "metadata": {},
     "output_type": "display_data"
    }
   ],
   "source": [
    "sns.set_style('darkgrid')\n",
    "plt.hist(top_rated['Genres'])\n",
    "plt.xlabel(\"Cateogory of Highly rated apps\")\n",
    "plt.ylabel(\"Count\")\n",
    "plt.margins(0.1)\n",
    "plt.show()\n"
   ]
  },
  {
   "cell_type": "code",
   "execution_count": 62,
   "id": "adcdb3ad",
   "metadata": {},
   "outputs": [
    {
     "data": {
      "image/png": "[encoded data removed]",
      "text/plain": [
       "<Figure size 720x360 with 1 Axes>"
      ]
     },
     "metadata": {},
     "output_type": "display_data"
    }
   ],
   "source": [
    "plt.figure(figsize=(10,5))\n",
    "plt.scatter(app['Reviews'],app['Rating'],color=\"r\")\n",
    "plt.xlabel('Reviews (in millions)',fontsize=14)\n",
    "plt.ylabel('Rating',fontsize=14)\n",
    "plt.title('Reviews vs Rating',fontsize=14)\n",
    "plt.show()"
   ]
  },
  {
   "cell_type": "code",
   "execution_count": null,
   "id": "b46de265",
   "metadata": {},
   "outputs": [],
   "source": [
    "\n",
    "df = sns.load_dataset('')\n",
    "sns.boxplot(y=app['Type']);\n",
    "plt.show()"
   ]
  }
 ],
 "metadata": {
  "kernelspec": {
   "display_name": "Python 3",
   "language": "python",
   "name": "python3"
  },
  "language_info": {
   "codemirror_mode": {
    "name": "ipython",
    "version": 3
   },
   "file_extension": ".py",
   "mimetype": "text/x-python",
   "name": "python",
   "nbconvert_exporter": "python",
   "pygments_lexer": "ipython3",
   "version": "3.8.8"
  }
 },
 "nbformat": 4,
 "nbformat_minor": 5
}
